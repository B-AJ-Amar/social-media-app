{
 "cells": [
  {
   "cell_type": "raw",
   "metadata": {},
   "source": [
    "remove followers\n",
    "async links\n",
    "async pages (1core,2req data )\n",
    "cache\n"
   ]
  }
 ],
 "metadata": {
  "language_info": {
   "name": "python"
  },
  "orig_nbformat": 4
 },
 "nbformat": 4,
 "nbformat_minor": 2
}
